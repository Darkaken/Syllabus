{
 "cells": [
  {
   "cell_type": "markdown",
   "metadata": {},
   "source": [
    "# Funcional\n",
    "## Ejercicio 1"
   ]
  },
  {
   "cell_type": "code",
   "execution_count": 1,
   "metadata": {
    "collapsed": false
   },
   "outputs": [
    {
     "name": "stdout",
     "output_type": "stream",
     "text": [
      "[[25], [16], [36, 100], [49]]\n"
     ]
    }
   ],
   "source": [
    "f1 = lambda x: (x+1) ** 2\n",
    "v1 = [[1, 2, 4], [1, 3], [2, 5, 9], [1, 6]]\n",
    "v2 = list(map(lambda y: list(filter(lambda x: x > 10, list(map(f1, y)))), v1))\n",
    "print(v2)"
   ]
  },
  {
   "cell_type": "markdown",
   "metadata": {},
   "source": [
    "## Ejercicio 2"
   ]
  },
  {
   "cell_type": "code",
   "execution_count": null,
   "metadata": {
    "collapsed": false
   },
   "outputs": [],
   "source": [
    "def f2(b, item):\n",
    "    lc = b[:]\n",
    "    lc.remove(item)\n",
    "    return lc\n",
    "\n",
    "def f1(a):\n",
    "    if len(a) == 0:\n",
    "        return [[]]\n",
    "    return [[x] + y for x in a for y in f1(f2(a, x))]\n",
    "\n",
    "print(f1([\"a\",\"b\",\"c\"]))"
   ]
  },
  {
   "cell_type": "markdown",
   "metadata": {},
   "source": [
    "# MetaClases\n",
    "## Ejercicio 1"
   ]
  },
  {
   "cell_type": "code",
   "execution_count": null,
   "metadata": {
    "collapsed": true
   },
   "outputs": [],
   "source": [
    "class Examen:\n",
    "\n",
    "    def __new__(cls, *args, **kwargs):\n",
    "        cls.students_dict = {}\n",
    "        cls.id_ = cls.generate_user_id()\n",
    "        return super().__new__(cls)\n",
    "\n",
    "    def __init__(self, name):\n",
    "        self.name = name\n",
    "\n",
    "    def __call__(self, *args, **kwargs):\n",
    "        return [Examen.students_dict[ar] for ar in args]\n",
    "\n",
    "    @staticmethod\n",
    "    def generate_user_id():\n",
    "        count = 0\n",
    "        while True:\n",
    "            yield count\n",
    "            count += 1\n",
    "\n",
    "    def add_user(self, name):\n",
    "        Examen.students_dict[name] = next(Examen.id_)\n",
    "\n",
    "\n",
    "if __name__ == \"__main__\":\n",
    "    e = Examen(\"Progra\")\n",
    "    e.add_user(\"E1\")\n",
    "    e.add_user(\"E2\")\n",
    "    e.add_user(\"E3\")\n"
   ]
  },
  {
   "cell_type": "markdown",
   "metadata": {},
   "source": [
    "a. ¿Que representa cls? A la clase Examen\n",
    "\n",
    "b. El metodo pertenece a la clase\n",
    "\n",
    "c. ¿Qué imprime la sentencia `print(e.students_dict)`?"
   ]
  },
  {
   "cell_type": "code",
   "execution_count": null,
   "metadata": {
    "collapsed": false
   },
   "outputs": [],
   "source": [
    "print(e.students_dict)"
   ]
  },
  {
   "cell_type": "markdown",
   "metadata": {},
   "source": [
    "d. ¿Qué imprime la sentencia `print(e(\"E1\", \"E2\", \"E3\"))`?"
   ]
  },
  {
   "cell_type": "code",
   "execution_count": null,
   "metadata": {
    "collapsed": false
   },
   "outputs": [],
   "source": [
    "print(e(\"E1\", \"E2\", \"E3\"))"
   ]
  },
  {
   "cell_type": "markdown",
   "metadata": {},
   "source": [
    "## Ejercicio 2"
   ]
  },
  {
   "cell_type": "code",
   "execution_count": null,
   "metadata": {
    "collapsed": false
   },
   "outputs": [],
   "source": [
    "class B:\n",
    "    pass\n",
    "\n",
    "\n",
    "class Meta(type):\n",
    "\n",
    "    def __new__(cls, name, bases, attr):\n",
    "        print(\"in 1...\")\n",
    "        print(cls)\n",
    "        print(name)\n",
    "        print(bases)\n",
    "        name = \"cambio_\" + name\n",
    "        bases = (B, )\n",
    "        attr[\"new\"] = 1\n",
    "        return super().__new__(cls, name, bases, attr)\n",
    "\n",
    "    def __init__(cls, name, bases, attr):\n",
    "        print(\"in 2...\")\n",
    "        print(cls)\n",
    "        print(\"name: \", name)\n",
    "        print(\"bases: \", bases)\n",
    "        print(\"attr: \", attr)\n",
    "        print(cls.__name__)\n",
    "        return super().__init__(name, bases, attr)\n",
    "\n",
    "if __name__ == \"__main__\":\n",
    "\n",
    "    class A(metaclass=Meta):\n",
    "        pass\n",
    "\n",
    "    print(A.__mro__)"
   ]
  }
 ],
 "metadata": {
  "kernelspec": {
   "display_name": "Python 3",
   "language": "python",
   "name": "python3"
  },
  "language_info": {
   "codemirror_mode": {
    "name": "ipython",
    "version": 3
   },
   "file_extension": ".py",
   "mimetype": "text/x-python",
   "name": "python",
   "nbconvert_exporter": "python",
   "pygments_lexer": "ipython3",
   "version": "3.5.2"
  }
 },
 "nbformat": 4,
 "nbformat_minor": 1
}

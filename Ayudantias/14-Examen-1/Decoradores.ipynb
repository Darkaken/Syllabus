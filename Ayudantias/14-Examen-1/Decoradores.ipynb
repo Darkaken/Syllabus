{
 "cells": [
  {
   "cell_type": "markdown",
   "metadata": {},
   "source": [
    "Hoy en la ayudantía varias personas preguntaron sobre los decoradores, cuáles eran los parámetros que se usan en cada parte, etc. Este código muestra cada una de las partes de los decoradores. Si tienen dudas de cómo funciona, pueden preguntar en una issue.\n",
    "\n",
    "Si son capaces de predecir el output de este código, están más que listos con decoradores :D"
   ]
  },
  {
   "cell_type": "code",
   "execution_count": 1,
   "metadata": {
    "collapsed": false
   },
   "outputs": [
    {
     "name": "stdout",
     "output_type": "stream",
     "text": [
      "(5, 7)\n",
      "{}\n",
      "<function constructor.<locals>.decorador at 0x7f170d1c82f0>\n",
      "<function sumar at 0x7f170d1c8f28>\n",
      "<function constructor.<locals>.decorador.<locals>.nueva_funcion at 0x7f170d1c8ea0>\n",
      "(3, 9)\n",
      "{'c': 10}\n",
      "<function constructor.<locals>.decorador at 0x7f170d1c8e18>\n",
      "<function restar at 0x7f170d1c82f0>\n",
      "<function constructor.<locals>.decorador.<locals>.nueva_funcion at 0x7f170d1c8d90>\n",
      "<function constructor.<locals>.decorador at 0x7f170d1c8e18>\n",
      "(2, 3)\n",
      "{'c': 10}\n",
      "<function constructor.<locals>.decorador at 0x7f170d1c8d08>\n",
      "<function restar at 0x7f170d1c82f0>\n",
      "<function constructor.<locals>.decorador.<locals>.nueva_funcion at 0x7f170d1c8c80>\n",
      "<function constructor.<locals>.decorador at 0x7f170d1c8d08>\n",
      "<function constructor.<locals>.decorador.<locals>.nueva_funcion at 0x7f170d1c8ea0>\n",
      "<function constructor.<locals>.decorador.<locals>.nueva_funcion at 0x7f170d1c8bf8>\n",
      "Main\n",
      "2\n",
      "-20\n",
      "(20, 30)\n",
      "{'c': 10}\n",
      "-20\n",
      "-1\n",
      "(20, 30)\n",
      "{'c': 10}\n",
      "-20\n",
      "-6\n",
      "(20, 30)\n",
      "{'c': 10}\n",
      "(20, 30)\n",
      "{'c': 10}\n",
      "60\n",
      "12\n",
      "(3, 9, 'c')\n",
      "{}\n",
      "12\n",
      "12\n",
      "(5, 1)\n",
      "{}\n",
      "6\n",
      "12\n",
      "(7, 9)\n",
      "{}\n",
      "16\n",
      "12\n"
     ]
    }
   ],
   "source": [
    "def constructor(*args, **kwargs):\n",
    "    # Constructor\n",
    "    print(args)\n",
    "    print(kwargs)\n",
    "    def decorador(funcion):\n",
    "        # Este es el decorador\n",
    "        print(funcion)\n",
    "        def nueva_funcion(*args_funcion, **kwargs_funcion):\n",
    "            # Esta es la nueva implementación\n",
    "            print(args_funcion)\n",
    "            print(kwargs_funcion)\n",
    "            print(funcion(*args_funcion, **kwargs_funcion)) # ejecutar la función antigua\n",
    "            return funcion(*args, *kwargs) # se puede retornar algo\n",
    "        print(nueva_funcion)\n",
    "        return nueva_funcion # return del decorador\n",
    "    print(decorador)\n",
    "    return decorador # return del contructor\n",
    "\n",
    "\n",
    "@constructor(5, 7)\n",
    "def sumar(a, b, c=None):        \n",
    "    if isinstance(c, int) or isinstance(c, float):\n",
    "        return a + b + c\n",
    "    else:\n",
    "        return a + b\n",
    "\n",
    "\n",
    "def restar(a, b, c=None):        \n",
    "    if isinstance(c, int) or isinstance(c, float):\n",
    "        return a - b - c\n",
    "    else:\n",
    "        return a - b\n",
    "\n",
    "deco1 = constructor(3, 9, c=10)\n",
    "func1 = deco1(restar)\n",
    "print(deco1) # Esto es un decorador!\n",
    "\n",
    "deco2 = constructor(2, 3, c=10)\n",
    "func2 = deco2(restar)\n",
    "print(deco2) # Esto es un decorador!\n",
    "\n",
    "func3 = deco1(sumar)\n",
    "\n",
    "\n",
    "if __name__ == \"__main__\":\n",
    "    print(\"Main\")\n",
    "    print(restar(10 , 8))\n",
    "    print(restar(20, 30, c=10))    \n",
    "    print(func2(20, 30, c=10))\n",
    "    print(func1(20, 30, c=10))\n",
    "    print(func3(20, 30, c=10))\n",
    "    print(sumar(5, 1))\n",
    "    print(sumar(7, 9))"
   ]
  },
  {
   "cell_type": "code",
   "execution_count": null,
   "metadata": {
    "collapsed": true
   },
   "outputs": [],
   "source": []
  }
 ],
 "metadata": {
  "kernelspec": {
   "display_name": "Python 3",
   "language": "python",
   "name": "python3"
  },
  "language_info": {
   "codemirror_mode": {
    "name": "ipython",
    "version": 3
   },
   "file_extension": ".py",
   "mimetype": "text/x-python",
   "name": "python",
   "nbconvert_exporter": "python",
   "pygments_lexer": "ipython3",
   "version": "3.5.2"
  }
 },
 "nbformat": 4,
 "nbformat_minor": 1
}

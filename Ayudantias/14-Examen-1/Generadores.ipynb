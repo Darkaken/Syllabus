{
 "cells": [
  {
   "cell_type": "markdown",
   "metadata": {},
   "source": [
    "# Pregunta 3a MidTerm 2016-1\n",
    "\n",
    "Suponga que la temperatura en un día $t$ del año (llamada $X_{t}$) depende de la temperatura de los $p$ días anteriores ($X_{t-i}, \\; \\forall i \\in [1, \\ldots, p]$). La forma de calcular la temperatura $X_t$ está dada por la siguiente ecuación:\n",
    "\n",
    "$X_{t} = \\sum_{i=1}^p \\alpha_i X_{t-i} + \\epsilon_t$\n",
    "\n",
    "Entonces, para ser capaces de predecir la temperatura $X_{t}$, necesitamos además de la temperatura de los $p$ días anteriores, los valores de los parámetros $\\alpha_1, \\alpha_2, \\ldots, \\alpha_p$ y $\\epsilon_t$.\n",
    "\n",
    "#### i) Escriba en Python, una función generadora que, para un valor dado de $p$ entregue los valores de $X_t$. La función debe recibir como argumento los parámetros necesarios, además, por cada iteración debe recibir el valor de $\\epsilon_t$ y devolver el valor de $X_{t}$. Puede asumir que los valores de $\\epsilon_t$ se obtienen al azar.\n",
    "\n",
    "#### ii) Escriba como utilizaría la función creada mediante una comprensión de listas, para generar una lista con 200 muestras de temperaturas $X_{t}$ según el modelo.\n",
    "\n",
    "\n"
   ]
  },
  {
   "cell_type": "code",
   "execution_count": 1,
   "metadata": {
    "collapsed": false
   },
   "outputs": [],
   "source": [
    "import random\n",
    "\n",
    "def temperatura(*alphas):\n",
    "    print(\"Antes del primer yield\")\n",
    "    error_t = yield\n",
    "    print(\"Después del primer send\")\n",
    "    x = [random.random() for _ in range(len(alphas))]\n",
    "    while True:\n",
    "        x_t = sum([t[0]*t[1] for t in zip(alphas, x[::-1])]) + error_t\n",
    "        x = [x_t] + x[:-1]\n",
    "        print(\"Antes de yield\")\n",
    "        error_t = yield x_t # Cuando hacemos next() estamos \n",
    "        print(\"Después de yield\")\n",
    "        \n",
    "temps = temperatura(-0.1, 0.3, 1) # Se crea el generador"
   ]
  },
  {
   "cell_type": "markdown",
   "metadata": {},
   "source": [
    "`next(temps)` es igual a `temps.send(None)`: solo avanza hasta retornar lo que entrega yield"
   ]
  },
  {
   "cell_type": "code",
   "execution_count": 2,
   "metadata": {
    "collapsed": false
   },
   "outputs": [
    {
     "name": "stdout",
     "output_type": "stream",
     "text": [
      "Antes del primer yield\n",
      "None\n"
     ]
    }
   ],
   "source": [
    "print(next(temps))"
   ]
  },
  {
   "cell_type": "markdown",
   "metadata": {},
   "source": [
    "Cada vez que hacemos `generador.send(value)` estamos entregando un valor a  la variable que guarda el retorno de `yield`. Este método además avanza hasta el siguiente `yield`, como lo haría un `next`."
   ]
  },
  {
   "cell_type": "code",
   "execution_count": 3,
   "metadata": {
    "collapsed": false
   },
   "outputs": [
    {
     "name": "stdout",
     "output_type": "stream",
     "text": [
      "Después del primer send\n",
      "Antes de yield\n"
     ]
    },
    {
     "data": {
      "text/plain": [
       "1.6091886795417085"
      ]
     },
     "execution_count": 3,
     "metadata": {},
     "output_type": "execute_result"
    }
   ],
   "source": [
    "temps.send(0.8)"
   ]
  },
  {
   "cell_type": "code",
   "execution_count": 4,
   "metadata": {
    "collapsed": false
   },
   "outputs": [
    {
     "name": "stdout",
     "output_type": "stream",
     "text": [
      "Después de yield\n",
      "Antes de yield\n"
     ]
    },
    {
     "data": {
      "text/plain": [
       "2.293112314363928"
      ]
     },
     "execution_count": 4,
     "metadata": {},
     "output_type": "execute_result"
    }
   ],
   "source": [
    "temps.send(0.6)"
   ]
  },
  {
   "cell_type": "code",
   "execution_count": 5,
   "metadata": {
    "collapsed": false
   },
   "outputs": [
    {
     "name": "stdout",
     "output_type": "stream",
     "text": [
      "Después de yield\n",
      "Antes de yield\n"
     ]
    },
    {
     "data": {
      "text/plain": [
       "3.416218910800141"
      ]
     },
     "execution_count": 5,
     "metadata": {},
     "output_type": "execute_result"
    }
   ],
   "source": [
    "temps.send(0.7)"
   ]
  },
  {
   "cell_type": "code",
   "execution_count": 6,
   "metadata": {
    "collapsed": false
   },
   "outputs": [
    {
     "name": "stdout",
     "output_type": "stream",
     "text": [
      "Después de yield\n",
      "Antes de yield\n"
     ]
    }
   ],
   "source": [
    "res = [temps.send(2.0 * random.random() - 1) for _ in range(1)]"
   ]
  }
 ],
 "metadata": {
  "kernelspec": {
   "display_name": "Python 3",
   "language": "python",
   "name": "python3"
  },
  "language_info": {
   "codemirror_mode": {
    "name": "ipython",
    "version": 3
   },
   "file_extension": ".py",
   "mimetype": "text/x-python",
   "name": "python",
   "nbconvert_exporter": "python",
   "pygments_lexer": "ipython3",
   "version": "3.5.2"
  }
 },
 "nbformat": 4,
 "nbformat_minor": 1
}

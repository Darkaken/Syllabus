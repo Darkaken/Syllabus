{
 "cells": [
  {
   "cell_type": "markdown",
   "metadata": {},
   "source": [
    "# Forma 1"
   ]
  },
  {
   "cell_type": "markdown",
   "metadata": {},
   "source": [
    "## Pregunta 1\n",
    "\n",
    "Explique porque Python <br/> <br/>\n",
    "a) Es un lenguaje \"dynamically typed\" **[1.5]**<br/><br/>\n",
    "**R**: Es un lenguaje \"dynamically typed\" ya que en Python uno no necesita declarar previamente el tipo de datos que almacenará la variable junto a ella, solo se guarda datos en ella sin importar el tipo.<br/><br/>\n",
    "b) No es un lenguaje \"weakly typed\" **[1.5]**<br/><br/>\n",
    "**R**: Python no es un lenguaje \"weakly typed\" ya que en este tipo de lenguaje uno puede hacer operaciones con variables que almacenan datos de tipos que no tienen relación entre ellos sin que ocurran errores, en cambio python no se pueden realizar operaciones por ejemplo entre strings y integers:<br/>\n",
    "a = 2<br/>\n",
    "b = \"2\"<br/>\n",
    "a + b <br/>\n",
    "Lanza un error"
   ]
  },
  {
   "cell_type": "markdown",
   "metadata": {},
   "source": [
    "## Pregunta 2\n",
    "\n",
    "¿Qué imprime el siguiente codigo en Python?"
   ]
  },
  {
   "cell_type": "code",
   "execution_count": 10,
   "metadata": {
    "collapsed": false
   },
   "outputs": [
    {
     "name": "stdout",
     "output_type": "stream",
     "text": [
      "200 20\n"
     ]
    }
   ],
   "source": [
    "def md(arg):\n",
    "    def _md(cls):\n",
    "        def mc(self, *args, **kwargs):\n",
    "            return self.v * arg\n",
    "        if '__call__' not in dir(cls):\n",
    "            setattr(cls, '__call__', mc)\n",
    "        return cls\n",
    "    return _md\n",
    "\n",
    "@md(20)\n",
    "class A:\n",
    "    def __init__(self, v):\n",
    "        self.v = v\n",
    "\n",
    "@md(10)\n",
    "class B:\n",
    "    def __init__(self, v):\n",
    "        self.v = v\n",
    "    \n",
    "    def __call__(self):\n",
    "        return self.v\n",
    "    \n",
    "a = A(10)\n",
    "b = B(20)\n",
    "\n",
    "print(a(), b())\n",
    "    "
   ]
  },
  {
   "cell_type": "markdown",
   "metadata": {},
   "source": [
    "# Forma 2"
   ]
  },
  {
   "cell_type": "markdown",
   "metadata": {},
   "source": [
    "## Pregunta 1\n",
    "\n",
    "Explique porque Python <br/> <br/>\n",
    "a) No es un lenguaje \"statically typed\" **[1.5]**<br/><br/>\n",
    "**R**: Un lenguaje \"statically typed\" corresponde a un lenguaje donde cada variable se asocia a un tipo y un objeto(opcional), y esa variable solo puede almacenar objetos del tipo en el cual fue definido, en cambio en Python uno no necesita declarar previamente el tipo junto a la variable, solo se guarda el objeto en ella. <br/><br/>\n",
    "b) Es un lengguaje \"strongly typed\" **[1.5]**<br/><br/>\n",
    "**R**: Es un lenguaje \"strongly typed\" ya que, no permite trabajar con variables de distinto tipo a menos que se haga una conversión. Por ejemplo si tenemos: <br/>\n",
    "a = 2<br/>\n",
    "b = \"2\"<br/>\n",
    "a + b <br/>\n",
    "Lanza un error"
   ]
  },
  {
   "cell_type": "markdown",
   "metadata": {},
   "source": [
    "## Pregunta 2\n",
    "\n",
    "¿Qué imprime el siguiente codigo en Python?"
   ]
  },
  {
   "cell_type": "code",
   "execution_count": 24,
   "metadata": {
    "collapsed": false
   },
   "outputs": [
    {
     "name": "stdout",
     "output_type": "stream",
     "text": [
      "[0, 1, 2, 3, 4, 5, 6]\n",
      "[<class '__main__.P'>, <class '__main__.P'>, <class '__main__.P'>, <class '__main__.P'>, <class '__main__.P'>, <class '__main__.P'>, <class '__main__.P'>]\n"
     ]
    }
   ],
   "source": [
    "class M(type):\n",
    "    vl = []\n",
    "    def __call__(cls, *args, **kw):\n",
    "        while(len(cls.vl) < args[0]):\n",
    "            cls.vl.append(super().__call__(*args, **kw))\n",
    "        return cls.vl\n",
    "    \n",
    "class P(metaclass=M):\n",
    "    cont = 0\n",
    "    def __init__(self, n):\n",
    "        self.id_ = P.cont\n",
    "        P.cont += 1\n",
    "        \n",
    "    def __repr__(self):\n",
    "        return str(self.id_)\n",
    "    \n",
    "a = P(7)\n",
    "print(a)\n",
    "print([type(a[i]) for i in range(len(a))])\n",
    "    "
   ]
  },
  {
   "cell_type": "code",
   "execution_count": null,
   "metadata": {
    "collapsed": true
   },
   "outputs": [],
   "source": []
  }
 ],
 "metadata": {
  "kernelspec": {
   "display_name": "Python 3",
   "language": "python",
   "name": "python3"
  },
  "language_info": {
   "codemirror_mode": {
    "name": "ipython",
    "version": 3
   },
   "file_extension": ".py",
   "mimetype": "text/x-python",
   "name": "python",
   "nbconvert_exporter": "python",
   "pygments_lexer": "ipython3",
   "version": "3.5.2"
  }
 },
 "nbformat": 4,
 "nbformat_minor": 1
}

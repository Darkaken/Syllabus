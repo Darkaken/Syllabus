{
 "cells": [
  {
   "cell_type": "markdown",
   "metadata": {},
   "source": [
    "#  Forma 1"
   ]
  },
  {
   "cell_type": "markdown",
   "metadata": {},
   "source": [
    "1) Implemente la  clase mi archivo...."
   ]
  },
  {
   "cell_type": "code",
   "execution_count": 10,
   "metadata": {
    "collapsed": false
   },
   "outputs": [
    {
     "name": "stdout",
     "output_type": "stream",
     "text": [
      "Hola Mundo\n",
      "Chao Mundo\n"
     ]
    }
   ],
   "source": [
    "class MiArchivo:\n",
    "    \n",
    "    def __init__(self, file, method):\n",
    "        self.file = file\n",
    "        self.method = method\n",
    "    \n",
    "    def __enter__(self):\n",
    "        self.f = open(self.file, self.method) \n",
    "        return self.f\n",
    "    \n",
    "    def __exit__(self, *args):\n",
    "        self.f.close()\n",
    "        \n",
    "with MiArchivo('ejemplo.txt', 'r') as fid:\n",
    "    for line in fid:\n",
    "        print(line.strip())"
   ]
  },
  {
   "cell_type": "markdown",
   "metadata": {},
   "source": [
    "2) Escriba un comando que cree el archivo Hola Mundo.txt con el string \"Hola Mundo\" ..."
   ]
  },
  {
   "cell_type": "code",
   "execution_count": null,
   "metadata": {
    "collapsed": false
   },
   "outputs": [],
   "source": [
    "echo \"Hola Mundo\" >  ../../Hola\\ Mundo.txt"
   ]
  },
  {
   "cell_type": "markdown",
   "metadata": {},
   "source": [
    "# Forma 2\n"
   ]
  },
  {
   "cell_type": "markdown",
   "metadata": {},
   "source": [
    "1) Explique que ocurre, linea por linea, en el siguiente codigo... "
   ]
  },
  {
   "cell_type": "code",
   "execution_count": 1,
   "metadata": {
    "collapsed": false
   },
   "outputs": [
    {
     "name": "stdout",
     "output_type": "stream",
     "text": [
      "bytearray(b'Hola')\n",
      "72\n",
      "bytearray(b'hola')\n",
      "b'Hola'\n",
      "72\n",
      "b'Hola'\n"
     ]
    }
   ],
   "source": [
    "a = bytearray(b'Hola')\n",
    "print(a)                  # Se imprime el bytearray\n",
    "print(a[0])               # Se imprime el primer elemento en Dec \n",
    "a[0] = 104                # Se reemplaza el primer elemnto del byterray por 104 (h en DEC)\n",
    "print(a)                  # Se imprime el byterray modificado\n",
    "b = b'Hola'        \n",
    "print(b)                  # Se imprime el Byte\n",
    "print(b[0])               # Se imprime el primero elemento del Byte\n",
    "# b[0] = b'h'             # Falla porque los bytes son inmutables\n",
    "print(b)                  # Se imprime el mismo byte original"
   ]
  },
  {
   "cell_type": "markdown",
   "metadata": {},
   "source": [
    "2) Escriba un comando que estando en /home/dummy muestre el contenido..."
   ]
  },
  {
   "cell_type": "code",
   "execution_count": null,
   "metadata": {
    "collapsed": true
   },
   "outputs": [],
   "source": [
    "cat ../user/documents/pgadmin.log"
   ]
  },
  {
   "cell_type": "markdown",
   "metadata": {},
   "source": [
    "# Forma 3"
   ]
  },
  {
   "cell_type": "markdown",
   "metadata": {},
   "source": [
    "1) Tiene implementado un thread que consume un recurso compartido..."
   ]
  },
  {
   "cell_type": "code",
   "execution_count": 11,
   "metadata": {
    "collapsed": true
   },
   "outputs": [],
   "source": [
    "class Locked:\n",
    "    \n",
    "    def __init__(self, lock):\n",
    "        self.lock = lock\n",
    "        \n",
    "    def __enter__(self):\n",
    "        self.lock.acquire()\n",
    "        \n",
    "    def __exit__(self):\n",
    "        self.lock.release()"
   ]
  },
  {
   "cell_type": "markdown",
   "metadata": {},
   "source": [
    "2)  Escriba un comando que estand en /home/user..."
   ]
  },
  {
   "cell_type": "code",
   "execution_count": null,
   "metadata": {
    "collapsed": true
   },
   "outputs": [],
   "source": [
    "grep -w 'LDCJ' documents/pgadmin.log"
   ]
  }
 ],
 "metadata": {
  "kernelspec": {
   "display_name": "Python 3",
   "language": "python",
   "name": "python3"
  },
  "language_info": {
   "codemirror_mode": {
    "name": "ipython",
    "version": 3
   },
   "file_extension": ".py",
   "mimetype": "text/x-python",
   "name": "python",
   "nbconvert_exporter": "python",
   "pygments_lexer": "ipython3",
   "version": "3.5.2"
  }
 },
 "nbformat": 4,
 "nbformat_minor": 1
}
